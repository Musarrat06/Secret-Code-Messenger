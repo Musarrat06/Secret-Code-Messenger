{
  "nbformat": 4,
  "nbformat_minor": 0,
  "metadata": {
    "colab": {
      "provenance": []
    },
    "kernelspec": {
      "name": "python3",
      "display_name": "Python 3"
    },
    "language_info": {
      "name": "python"
    }
  },
  "cells": [
    {
      "cell_type": "code",
      "execution_count": 6,
      "metadata": {
        "colab": {
          "base_uri": "https://localhost:8080/"
        },
        "id": "BpWthigVxlXp",
        "outputId": "5c53d959-53b7-46c4-d79a-be8f88c37a8e"
      },
      "outputs": [
        {
          "output_type": "stream",
          "name": "stdout",
          "text": [
            "rpwello,hbwi ew rpwillwbwi rpwavehbwi rpweetingmbwi no rpwhistbwi rpwunday.sbwi \n",
            "Enter 1 for encoding / 2 for decoding : 2\n",
            "hello, we will have meeting on this sunday.  "
          ]
        }
      ],
      "source": [
        "import random\n",
        "\n",
        "a = input()\n",
        "encoding = int(input(\"Enter 1 for encoding / 2 for decoding : \"))\n",
        "\n",
        "b = a.split(\" \")\n",
        "\n",
        "\n",
        "words = (\"jie\",\"ywe\",\"dgw\",\"rpw\",\"qwc\",\"pow\")\n",
        "word1 = (\"bwi\",\"bvj\",\"ygr\",\"tuo\",\"xsf\")\n",
        "\n",
        "\n",
        "k = random.choice(words)\n",
        "p = random.choice(word1)\n",
        "\n",
        "if encoding == 1:\n",
        "  for i in b:\n",
        "    # print(i)\n",
        "    if len(i) >= 3:\n",
        "      print(k + i[1:] + i[0] + p, end=\" \")\n",
        "\n",
        "    else:\n",
        "      print(i[::-1], end=\" \")\n",
        "\n",
        "\n",
        "else:\n",
        "  for i in b:\n",
        "    # print(i)\n",
        "    if len(i) >= 3:\n",
        "      c = i[3:-3]\n",
        "      print(c[-1] + c[0:-1], end=\" \")\n",
        "    else:\n",
        "      print(i[::-1], end = \" \")\n"
      ]
    }
  ]
}